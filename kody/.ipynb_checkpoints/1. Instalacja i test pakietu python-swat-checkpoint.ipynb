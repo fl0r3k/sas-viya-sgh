{
 "cells": [
  {
   "cell_type": "markdown",
   "metadata": {},
   "source": [
    "# 1 - Instalacja SWAT i podłączenie do CAS z Python"
   ]
  },
  {
   "cell_type": "markdown",
   "metadata": {},
   "source": [
    "Po zainstalowaniu Python (polecamy [dystrybucję Anaconda od Continuum.io](https://www.continuum.io/downloads)), możesz zainstalować najnowszą wersję SAS SWAT (Scripting Wrapper for Analytics Transfer) z GitHub https://github.com/sassoftware/python-swat/releases po prostu wpisując komendę `pip install <URL>` gdzie URL wskazuje odpowiednie binaria dla Twojej platformy albo `pip install swat`.\n",
    "Więcej informacji na https://github.com/sassoftware/python-swat."
   ]
  },
  {
   "cell_type": "markdown",
   "metadata": {},
   "source": [
    "## Pierwsze połączenie i test"
   ]
  },
  {
   "cell_type": "code",
   "execution_count": null,
   "metadata": {},
   "outputs": [],
   "source": [
    "import swat, os\n",
    "os.environ['CAS_CLIENT_SSL_CA_LIST'] = 'C:\\\\temp\\\\trustedcerts.pem'\n",
    "conn = swat.CAS('adres-kontrolera-cas', 8777, 'uzytkownik', 'haslo')"
   ]
  },
  {
   "cell_type": "code",
   "execution_count": null,
   "metadata": {},
   "outputs": [],
   "source": [
    "conn.serverStatus()"
   ]
  },
  {
   "cell_type": "code",
   "execution_count": null,
   "metadata": {},
   "outputs": [],
   "source": [
    "conn.terminate()"
   ]
  }
 ],
 "metadata": {
  "kernelspec": {
   "display_name": "Python 3",
   "language": "python",
   "name": "python3"
  },
  "language_info": {
   "codemirror_mode": {
    "name": "ipython",
    "version": 3
   },
   "file_extension": ".py",
   "mimetype": "text/x-python",
   "name": "python",
   "nbconvert_exporter": "python",
   "pygments_lexer": "ipython3",
   "version": "3.7.1"
  }
 },
 "nbformat": 4,
 "nbformat_minor": 2
}
