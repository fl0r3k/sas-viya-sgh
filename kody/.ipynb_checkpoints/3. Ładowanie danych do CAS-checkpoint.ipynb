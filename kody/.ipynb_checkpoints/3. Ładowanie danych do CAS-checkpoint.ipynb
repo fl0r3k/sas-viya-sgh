{
 "cells": [
  {
   "cell_type": "markdown",
   "metadata": {},
   "source": [
    "# Ładowanie danych do CAS"
   ]
  },
  {
   "cell_type": "markdown",
   "metadata": {},
   "source": [
    "## Parsowanie danych po stronie klienta i załadowanie do CAS"
   ]
  },
  {
   "cell_type": "code",
   "execution_count": null,
   "metadata": {},
   "outputs": [],
   "source": [
    "import swat, os\n",
    "os.environ['CAS_CLIENT_SSL_CA_LIST'] = 'C:\\\\temp\\\\trustedcerts.pem'\n",
    "conn = swat.CAS('adres-kontrolera-cas', 8777, 'uzytkownik', 'haslo')"
   ]
  },
  {
   "cell_type": "markdown",
   "metadata": {},
   "source": [
    "W katalogu `dane` znajduje sie plik `iris.csv` o strukturze jak poniżej."
   ]
  },
  {
   "cell_type": "markdown",
   "metadata": {},
   "source": [
    "`\"sepal_length\",\"sepal_width\",\"petal_length\",\"petal_width\",\"variety\"\n",
    "5.1,3.5,1.4,.2,\"Setosa\"\n",
    "4.9,3,1.4,.2,\"Setosa\"\n",
    "4.7,3.2,1.3,.2,\"Setosa\"\n",
    "...\n",
    "6.5,3,5.2,2,\"Virginica\"\n",
    "6.2,3.4,5.4,2.3,\"Virginica\"\n",
    "5.9,3,5.1,1.8,\"Virginica\"`"
   ]
  },
  {
   "cell_type": "markdown",
   "metadata": {},
   "source": [
    "Aby sparsować plik CSV oraz załadować dane do CAS możemy użyć tych samych funkcji co w module `pandas` tj. `read_csv`, `read_table`, `read_excel` itp."
   ]
  },
  {
   "cell_type": "markdown",
   "metadata": {},
   "source": [
    "Kompletna lista obsługiwanych typów plików oraz przykłądy użycia: https://sassoftware.github.io/python-swat/api.html#client-side-files"
   ]
  },
  {
   "cell_type": "code",
   "execution_count": null,
   "metadata": {},
   "outputs": [],
   "source": [
    "iris = conn.read_csv('../dane/iris.csv')\n",
    "iris"
   ]
  },
  {
   "cell_type": "markdown",
   "metadata": {},
   "source": [
    "W wyniku wywołania `read_csv`, plik `iris.csv` został sprasowany i wysłany do serwera CAS. Po stronie serwera, w domyślnej (tzw. aktywnej bibliotece) została utworzona tabela o strukturze jak wskazany plik CSV i wypełniona danymi z tego pliku. Aktywną biblioteką jest `CASUSER(nazwaUzytkownika)`"
   ]
  },
  {
   "cell_type": "markdown",
   "metadata": {},
   "source": [
    "Ponieważ nie podaliśmy nazwy tabeli to serwer przypisał jej losową nazwę. Zwrócony obiekt (`CASTable`) jest tzw. uchwytem do naszej tabeli znajdującej się w pamięci serwera CAS. Nie jest samą tabelą a tylko elementem za pomocą którego możemy operować na tabeli. "
   ]
  },
  {
   "cell_type": "markdown",
   "metadata": {},
   "source": [
    "Mając naszą tabelę w CAS oraz używając uchwytu możemy wywoływać akcje. Część z dostępnych akcji pokrywa się z tymi, które są w module `pandas`."
   ]
  },
  {
   "cell_type": "code",
   "execution_count": null,
   "metadata": {},
   "outputs": [],
   "source": [
    "iris.tableInfo()"
   ]
  },
  {
   "cell_type": "code",
   "execution_count": null,
   "metadata": {},
   "outputs": [],
   "source": [
    "iris.tableDetails()"
   ]
  },
  {
   "cell_type": "code",
   "execution_count": null,
   "metadata": {},
   "outputs": [],
   "source": [
    "iris.columnInfo()"
   ]
  },
  {
   "cell_type": "code",
   "execution_count": null,
   "metadata": {},
   "outputs": [],
   "source": [
    "iris.head()"
   ]
  },
  {
   "cell_type": "code",
   "execution_count": null,
   "metadata": {},
   "outputs": [],
   "source": [
    "iris.tail()"
   ]
  },
  {
   "cell_type": "code",
   "execution_count": null,
   "metadata": {},
   "outputs": [],
   "source": [
    "iris.summary()"
   ]
  },
  {
   "cell_type": "markdown",
   "metadata": {},
   "source": [
    "Więcej akcji poznamy później."
   ]
  },
  {
   "cell_type": "code",
   "execution_count": null,
   "metadata": {},
   "outputs": [],
   "source": [
    "iris.dropTable()"
   ]
  },
  {
   "cell_type": "markdown",
   "metadata": {},
   "source": [
    "## Wysłanie danych do serwera CAS i parsowanie po stronie serwera"
   ]
  },
  {
   "cell_type": "markdown",
   "metadata": {},
   "source": [
    "Parsowanie dużego pliku może zająć więcej czasu niż gdybyśmy wysłali go do serwera i pozwolili serwerowi go sparsować."
   ]
  },
  {
   "cell_type": "markdown",
   "metadata": {},
   "source": [
    "Do wysłania pliku na serwer służy funkcja `upload_file()`"
   ]
  },
  {
   "cell_type": "code",
   "execution_count": null,
   "metadata": {},
   "outputs": [],
   "source": [
    "iris = conn.upload_file('../dane/iris.csv')\n",
    "iris"
   ]
  },
  {
   "cell_type": "markdown",
   "metadata": {},
   "source": [
    "W tym przypadku tabela otrzymała nazwę taką samą jak plik czyli IRIS."
   ]
  },
  {
   "cell_type": "code",
   "execution_count": null,
   "metadata": {},
   "outputs": [],
   "source": [
    "iris.dropTable()"
   ]
  },
  {
   "cell_type": "markdown",
   "metadata": {},
   "source": [
    "## Ładowanie danych bezpośrednio przez serwer CAS"
   ]
  },
  {
   "cell_type": "markdown",
   "metadata": {},
   "source": [
    "Jeżeli dane mamy zapisane na serwerze, w konkretnej bibliotece możemy poprosić serwer CAS aby je nam załadował. W tym przypadku dane znajdują się w mojej bibliotece `CASUSER` czyli w katalogu `(/home/nazwa_uzytkownika/cas)` na serwerze."
   ]
  },
  {
   "cell_type": "code",
   "execution_count": null,
   "metadata": {},
   "outputs": [],
   "source": [
    "iris = conn.load_path('iris.csv')"
   ]
  },
  {
   "cell_type": "code",
   "execution_count": null,
   "metadata": {},
   "outputs": [],
   "source": [
    "iris.head()"
   ]
  },
  {
   "cell_type": "code",
   "execution_count": null,
   "metadata": {},
   "outputs": [],
   "source": [
    "iris.dropTable()"
   ]
  },
  {
   "cell_type": "markdown",
   "metadata": {},
   "source": [
    "Aby wyświetlić wszystkie obecnie załadowane tabele w aktywnej bibliotece należy użyć akcji `tableInfo` z zestawu akcji `table`."
   ]
  },
  {
   "cell_type": "code",
   "execution_count": null,
   "metadata": {},
   "outputs": [],
   "source": [
    "conn.table.tableInfo()"
   ]
  },
  {
   "cell_type": "code",
   "execution_count": null,
   "metadata": {},
   "outputs": [],
   "source": [
    "conn.terminate()"
   ]
  },
  {
   "cell_type": "markdown",
   "metadata": {},
   "source": [
    "## Ćwiczenie 1"
   ]
  },
  {
   "cell_type": "markdown",
   "metadata": {},
   "source": [
    "1\\. Utwórz sesję CAS o nazwie `conn1`.\n",
    "\n",
    "2\\. Załąduj plik `cars.csv` zanajdujący się w katalogu za danymi. Użyj parsowania po stronie klienta.\n",
    "\n",
    "3\\. Upewnij się, że dane zostały załadowane popranie i odpowiedz na pytania:\n",
    "\n",
    "a) Jaka jest nazwa biblioteki oraz tabeli po stronie CAS do której załadowane dane.\n",
    "\n",
    "b) Ile jest kolumn i wierszy w tabeli?\n",
    "\n",
    "4\\. Powołaj drugą sesję w CAS o nazwie `conn2`.\n",
    "\n",
    "a). Czy załadowana za w pierwszej sesji tabela jest widoczna w drugiej sesji?\n",
    "\n",
    "5\\. Załaduj do pamięci CAS ten sam plik co pierwszej sesji. Tym razem użyj parsowania po stronie serwera.\n",
    "\n",
    "6\\. Upewnij się, że dane zostały załadowane popranie. (tableInfo,head itp.)\n",
    "\n",
    "7\\. Usuń załadowane dane a następnie zakończ wszystkie powołane sesje."
   ]
  }
 ],
 "metadata": {
  "kernelspec": {
   "display_name": "Python 3",
   "language": "python",
   "name": "python3"
  },
  "language_info": {
   "codemirror_mode": {
    "name": "ipython",
    "version": 3
   },
   "file_extension": ".py",
   "mimetype": "text/x-python",
   "name": "python",
   "nbconvert_exporter": "python",
   "pygments_lexer": "ipython3",
   "version": "3.7.1"
  }
 },
 "nbformat": 4,
 "nbformat_minor": 2
}
