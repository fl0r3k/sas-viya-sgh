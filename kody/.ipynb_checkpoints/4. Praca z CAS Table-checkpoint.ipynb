{
 "cells": [
  {
   "cell_type": "markdown",
   "metadata": {},
   "source": [
    "# Praca z obiektem CAS Table"
   ]
  },
  {
   "cell_type": "code",
   "execution_count": null,
   "metadata": {},
   "outputs": [],
   "source": [
    "import swat\n",
    "conn = swat.CAS('localhost',5570)"
   ]
  },
  {
   "cell_type": "code",
   "execution_count": null,
   "metadata": {},
   "outputs": [],
   "source": [
    "iris = s.upload_file('../dane/iris.csv')\n",
    "iris.head()"
   ]
  },
  {
   "cell_type": "markdown",
   "metadata": {},
   "source": [
    "## Wybór zakresu danych"
   ]
  },
  {
   "cell_type": "markdown",
   "metadata": {},
   "source": [
    "### Wybór kolumn"
   ]
  },
  {
   "cell_type": "markdown",
   "metadata": {},
   "source": [
    "Po numerze kolumny:"
   ]
  },
  {
   "cell_type": "code",
   "execution_count": null,
   "metadata": {},
   "outputs": [],
   "source": [
    "iris[[1]].head()"
   ]
  },
  {
   "cell_type": "code",
   "execution_count": null,
   "metadata": {},
   "outputs": [],
   "source": [
    "iris[[1,3,4]].head()"
   ]
  },
  {
   "cell_type": "markdown",
   "metadata": {},
   "source": [
    "Po nazwie:"
   ]
  },
  {
   "cell_type": "code",
   "execution_count": null,
   "metadata": {},
   "outputs": [],
   "source": [
    "iris[['sepal_width','variety']].head()"
   ]
  },
  {
   "cell_type": "markdown",
   "metadata": {},
   "source": [
    "Aby wybrać zakres kolumn należy użyć `loc[wiersze,kolumny]` oraz operatora `:`"
   ]
  },
  {
   "cell_type": "code",
   "execution_count": null,
   "metadata": {},
   "outputs": [],
   "source": [
    "iris.loc[:,'sepal_length':'variety'].head()"
   ]
  },
  {
   "cell_type": "markdown",
   "metadata": {},
   "source": [
    "Więcej przykładów użycia `loc[]` oraz wybierania zakresów kolumn i wierszy znajdziesz tutaj: https://pandas.pydata.org/pandas-docs/stable/indexing.html"
   ]
  },
  {
   "cell_type": "markdown",
   "metadata": {},
   "source": [
    "Czasami chcemy wybrać kolmny po nazwach, gdzie nazwa spełnia konkretny warunek. W celu osiągnięcia zamierzanego rezultatu, należy przygotować listę kolumn, posługując się metodami dostępnymi w języku Python."
   ]
  },
  {
   "cell_type": "code",
   "execution_count": null,
   "metadata": {},
   "outputs": [],
   "source": [
    "matching = [s for s in iris.columns if \"sepal\" in s]\n",
    "matching"
   ]
  },
  {
   "cell_type": "markdown",
   "metadata": {},
   "source": [
    "Wybraliśmy wszystkie kolumny zawierające w nazie fragment `sepal`"
   ]
  },
  {
   "cell_type": "code",
   "execution_count": null,
   "metadata": {},
   "outputs": [],
   "source": [
    "iris[matching].head()"
   ]
  },
  {
   "cell_type": "markdown",
   "metadata": {},
   "source": [
    "### Wybór wierszy"
   ]
  },
  {
   "cell_type": "markdown",
   "metadata": {},
   "source": [
    "Do wyboru wierszy nie możemy użyć `loc[wiersze,kolumny]`. W systemie rozproszonym nie można wskaząć konkretnego wiersza po numerze wiersze w tabeli.  "
   ]
  },
  {
   "cell_type": "code",
   "execution_count": null,
   "metadata": {},
   "outputs": [],
   "source": [
    "iris.loc[1,:].head()"
   ]
  },
  {
   "cell_type": "markdown",
   "metadata": {},
   "source": [
    "Można za to sprecyzować warunek jaki mają spełniać wiersze"
   ]
  },
  {
   "cell_type": "code",
   "execution_count": null,
   "metadata": {},
   "outputs": [],
   "source": [
    "iris.params.where = 'sepal_length > 6.8 and variety = \"Virginica\"'\n",
    "iris"
   ]
  },
  {
   "cell_type": "code",
   "execution_count": null,
   "metadata": {},
   "outputs": [],
   "source": [
    "iris.head()"
   ]
  },
  {
   "cell_type": "markdown",
   "metadata": {},
   "source": [
    "Obiekt `CASTable` posiada kilka użytecznych parametrów, które możemy ustawić. Jednym z nich jest `where` pozwalający na ustawienie, które rekordy na tabeli będziemy przetwarzać. Od momentu ustawienia `where` wszystkie akcje, jakie wykonamy na tabeli będą uwzględniały tylko wiersze spełniające wstawiony warunek. "
   ]
  },
  {
   "cell_type": "markdown",
   "metadata": {},
   "source": [
    "Aby pozbyć się warunku można przypisać do `where` pusty string albo usunąć parametr `where` z tabeli za pomocą instrukcji `del`"
   ]
  },
  {
   "cell_type": "code",
   "execution_count": null,
   "metadata": {},
   "outputs": [],
   "source": [
    "iris.params.where = ''\n",
    "iris.head()"
   ]
  },
  {
   "cell_type": "code",
   "execution_count": null,
   "metadata": {},
   "outputs": [],
   "source": [
    "iris.params.where = 'sepal_length > 6.8 and variety = \"Virginica\"'\n",
    "iris"
   ]
  },
  {
   "cell_type": "code",
   "execution_count": null,
   "metadata": {},
   "outputs": [],
   "source": [
    "del iris.params.where\n",
    "iris"
   ]
  },
  {
   "cell_type": "markdown",
   "metadata": {},
   "source": [
    "**UWAGA: ustawione na tabeli parametry nie modyfikują załadowanej tabeli. Zmieniają tylko nasz sposób interakcji z tabelą i działają tylko w obrębie posiadanego uchwytu do tabeli. W przypadku gdybyśmy mieli dwa uchwyty wskazujace na tą samą tabelę, w zależności od ustawionych parametrów, wywoływane akcje miałyby inny rezultat.**"
   ]
  },
  {
   "cell_type": "code",
   "execution_count": null,
   "metadata": {},
   "outputs": [],
   "source": [
    "iris.params.where = 'sepal_length > 6.8 and variety = \"Virginica\"'\n",
    "iris"
   ]
  },
  {
   "cell_type": "code",
   "execution_count": null,
   "metadata": {},
   "outputs": [],
   "source": [
    "iris.head()"
   ]
  },
  {
   "cell_type": "code",
   "execution_count": null,
   "metadata": {},
   "outputs": [],
   "source": [
    "inny_iris = s.CASTable(name='IRIS',caslib='CASUSER(fl0r3k)')\n",
    "inny_iris"
   ]
  },
  {
   "cell_type": "code",
   "execution_count": null,
   "metadata": {},
   "outputs": [],
   "source": [
    "inny_iris.head()"
   ]
  },
  {
   "cell_type": "code",
   "execution_count": null,
   "metadata": {},
   "outputs": [],
   "source": [
    "del iris.params.where"
   ]
  },
  {
   "cell_type": "markdown",
   "metadata": {},
   "source": [
    "## Kolumny wyliczane"
   ]
  },
  {
   "cell_type": "markdown",
   "metadata": {},
   "source": [
    "Za pomocą `params` w tabeli możemy dodać nowe kolumny. Parametr `computedvars` zawiera nazwy kolumn jakie chcemy dodać za pomocą kalkulacji. Dla przykładu dodamy kolumnę `length_factor`, która będzie iloczynem `sepal_length` oraz `petal_length`."
   ]
  },
  {
   "cell_type": "code",
   "execution_count": null,
   "metadata": {},
   "outputs": [],
   "source": [
    "iris.params.computedvars = ['length_factor']"
   ]
  },
  {
   "cell_type": "markdown",
   "metadata": {},
   "source": [
    "Samo dodanie nazwy kolumny oczywiście nie wystarczy. Przy próbie odczytu tabeli dostaniemy błąd."
   ]
  },
  {
   "cell_type": "code",
   "execution_count": null,
   "metadata": {},
   "outputs": [],
   "source": [
    "iris.head()"
   ]
  },
  {
   "cell_type": "markdown",
   "metadata": {},
   "source": [
    "Musimy jeszcze dodać kod, za pomocą którego serwer przypisze wartości do naszej kolumny wyliczanej"
   ]
  },
  {
   "cell_type": "code",
   "execution_count": null,
   "metadata": {},
   "outputs": [],
   "source": [
    "iris.params.computedvarsprogram = 'length_factor = sepal_length * petal_length;'"
   ]
  },
  {
   "cell_type": "code",
   "execution_count": null,
   "metadata": {},
   "outputs": [],
   "source": [
    "iris.head()"
   ]
  },
  {
   "cell_type": "markdown",
   "metadata": {},
   "source": [
    "Możliwe jest wyliczanie wielu kolumn."
   ]
  },
  {
   "cell_type": "code",
   "execution_count": null,
   "metadata": {},
   "outputs": [],
   "source": [
    "iris.params.computedvars.append('width_factor')\n",
    "iris.params.computedvarsprogram = iris.params.computedvarsprogram + 'width_factor = sepal_width * petal_width;'\n",
    "iris"
   ]
  },
  {
   "cell_type": "markdown",
   "metadata": {},
   "source": [
    "W razie gdyby powyższy kod, ktoś uruchomił kilka razy ;)"
   ]
  },
  {
   "cell_type": "code",
   "execution_count": null,
   "metadata": {},
   "outputs": [],
   "source": [
    "iris.params.computedvars = ['length_factor','width_factor']\n",
    "iris.params.computedvarsprogram = '''\n",
    "    length_factor = sepal_length * petal_length;\n",
    "    width_factor = sepal_width * petal_width;\n",
    "'''\n",
    "iris"
   ]
  },
  {
   "cell_type": "code",
   "execution_count": null,
   "metadata": {},
   "outputs": [],
   "source": [
    "iris.head()"
   ]
  },
  {
   "cell_type": "markdown",
   "metadata": {},
   "source": [
    "# Ćwiczenie 2"
   ]
  },
  {
   "cell_type": "markdown",
   "metadata": {},
   "source": [
    "1\\. Korzystając ze zbioru `class.csv` przelicz kolumny z jednostek imperialnych na metryczne a następnie oblicz index masy ciała (BMI).\n",
    "1'' = 0.0254 m\n",
    "1 lbs = 0.453592 kg\n",
    "\n",
    "2\\. Wylicz statystyki opisowe dla wszystkich zmiennych numercznych. (describe)\n",
    "\n",
    "3\\. Używająć akcji `head` albo `fetch` pobierz imiona osób w klasie z niedowagą i nadwagą.\n",
    "\n",
    "4\\. Usuń wszystkie tabele oraz zakończ aktywne sesje."
   ]
  }
 ],
 "metadata": {
  "kernelspec": {
   "display_name": "Python 3",
   "language": "python",
   "name": "python3"
  },
  "language_info": {
   "codemirror_mode": {
    "name": "ipython",
    "version": 3
   },
   "file_extension": ".py",
   "mimetype": "text/x-python",
   "name": "python",
   "nbconvert_exporter": "python",
   "pygments_lexer": "ipython3",
   "version": "3.7.1"
  }
 },
 "nbformat": 4,
 "nbformat_minor": 2
}
